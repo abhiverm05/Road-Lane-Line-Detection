{
  "cells": [
    {
      "cell_type": "code",
      "execution_count": null,
      "metadata": {
        "id": "YSUiT0fFPZfj"
      },
      "outputs": [],
      "source": [
        "import tensorflow as tf\n",
        "from tensorflow import keras\n",
        "\n",
        "import os\n",
        "import re\n",
        "import glob, random\n",
        "import cv2\n",
        "import numpy as np\n",
        "from tqdm import tqdm_notebook\n",
        "import matplotlib.pyplot as plt\n",
        "from keras.utils import plot_model\n",
        "from keras.models import Sequential, Model, load_model\n",
        "from keras.layers import Dense, Dropout, Flatten, Input, Concatenate\n",
        "from keras.layers import Conv2D, MaxPooling2D, UpSampling2D\n",
        "from keras.utils import to_categorical"
      ]
    },
    {
      "cell_type": "markdown",
      "metadata": {
        "id": "_QJxi1oez6Ma"
      },
      "source": [
        "# Handling media files\n",
        "some function definitions to get/write frames from video or folder\n",
        "(not all of the functions are called in the rest of the code)"
      ]
    },
    {
      "cell_type": "code",
      "execution_count": null,
      "metadata": {
        "id": "2ABon3ZJz0ex"
      },
      "outputs": [],
      "source": [
        "##read frames from a video and load them into col_images2\n",
        "def vid2photos(vid_path):\n",
        "  myFrameNumber = 50\n",
        "  cap = cv2.VideoCapture(vid_path)\n",
        "  # '/content/drive/My Drive/lane_detection/videoplayback.mp4'\n",
        "  # get total number of frames\n",
        "  totalFrames = cap.get(cv2.CAP_PROP_FRAME_COUNT)\n",
        "\n",
        "  # check for valid frame number\n",
        "  if myFrameNumber >= 0 & myFrameNumber <= totalFrames:\n",
        "      # set frame position\n",
        "      cap.set(cv2.CAP_PROP_POS_FRAMES,myFrameNumber)\n",
        "  col_images2=[]\n",
        "  while True:\n",
        "      ret, frame = cap.read()\n",
        "      # print(ret)\n",
        "      if (ret):\n",
        "        # frame = cv2.cvtColor(frame, cv2.COLOR_BGR2RGB)\n",
        "        # frame = cv2.cvtColor(frame,cv2.COLOR_BGR2GRAY)\n",
        "        frame = cv2.resize(frame, (128, 128))\n",
        "        col_images2.append(frame)\n",
        "        # plt.figure(figsize=(10,10))\n",
        "        # plt.imshow(frame[:,:,0], cmap= \"gray\")\n",
        "        # plt.show()\n",
        "      else:\n",
        "        break\n",
        "      if cv2.waitKey(20) & 0xFF == ord('q'):\n",
        "          break\n",
        "  cv2.destroyAllWindows()\n",
        "  return col_images2"
      ]
    },
    {
      "cell_type": "code",
      "execution_count": null,
      "metadata": {
        "id": "b7-OQr8Pz0ul"
      },
      "outputs": [],
      "source": [
        "def photos2vid(pathIn, pathOut):\n",
        "  # input frames path\n",
        "  # pathIn= '/content/drive/My Drive/lane_detection/detected_test_averageing_resized_blank/'\n",
        "\n",
        "  # output path to save the video\n",
        "  # pathOut = '/content/drive/My Drive/lane_detection/roads_test_averaging_resized_blank.mp4'\n",
        "\n",
        "  # specify frames per second\n",
        "  fps = 30.0\n",
        "\n",
        "\n",
        "  from os.path import isfile, join\n",
        "\n",
        "  # get file names of the frames\n",
        "  files = [f for f in os.listdir(pathIn) if isfile(join(pathIn, f))]\n",
        "  files.sort(key=lambda f: int(re.sub('\\D', '', f)))\n",
        "\n",
        "  frame_list = []\n",
        "\n",
        "  for i in tqdm_notebook(range(len(files))):\n",
        "      filename=pathIn + files[i]\n",
        "      #reading each files\n",
        "      img = cv2.imread(filename)\n",
        "      height, width, layers = img.shape\n",
        "      size = (width,height)\n",
        "      \n",
        "      #inserting the frames into an image array\n",
        "      frame_list.append(img)\n",
        "\n",
        "  plt.figure(figsize=(10,10))\n",
        "  plt.imshow(frame_list[0], cmap= \"gray\")\n",
        "  plt.show()    \n",
        "  # write the video\n",
        "  out = cv2.VideoWriter(pathOut,cv2.VideoWriter_fourcc(*'DIVX'), fps, size)\n",
        "\n",
        "  for i in range(len(frame_list)):\n",
        "      # writing to a image array\n",
        "      out.write(frame_list[i])\n",
        "\n",
        "  out.release()\n",
        "  return True"
      ]
    },
    {
      "cell_type": "code",
      "execution_count": null,
      "metadata": {
        "id": "kCmuipwz1NyP"
      },
      "outputs": [],
      "source": [
        "#sampling images\n",
        "#not used anywhere\n",
        "def readFrameFolder(path, bin=False):\n",
        "  col_frames = os.listdir(path)\n",
        "  col_frames.sort(key=lambda f: int(re.sub('\\D', '', f)))\n",
        "\n",
        "  # load frames\n",
        "  X=[]\n",
        "  for i in tqdm_notebook(col_frames):\n",
        "      img = cv2.imread(path+''+i)\n",
        "      if bin:\n",
        "        img = cv2.cvtColor(img, cv2.COLOR_BGR2GRAY)\n",
        "\n",
        "      X.append(img)\n",
        "      return X"
      ]
    },
    {
      "cell_type": "code",
      "execution_count": null,
      "metadata": {
        "id": "FxQVUMEd3ZQG"
      },
      "outputs": [],
      "source": [
        "def frames2folder(frames, path):\n",
        "  for i in tqdm_notebook(frames):\n",
        "    img=frames[i]\n",
        "    cv2.imwrite(path+str(i)+'.png',img)"
      ]
    },
    {
      "cell_type": "markdown",
      "metadata": {
        "id": "4YSUkc9Y1q7N"
      },
      "source": [
        "# Model\n",
        "U-net architecture functional model, 3 layers deep:\n",
        "3conv and downsampling layers and 3conv and upscaling layers\n",
        "concatention layers produce the input from \n"
      ]
    },
    {
      "cell_type": "code",
      "execution_count": null,
      "metadata": {
        "colab": {
          "base_uri": "https://localhost:8080/"
        },
        "id": "Boo60QpvoNbC",
        "outputId": "fac63def-b0d8-46a3-e10f-89427fe56afa"
      },
      "outputs": [
        {
          "name": "stdout",
          "output_type": "stream",
          "text": [
            "Model: \"model_1\"\n",
            "__________________________________________________________________________________________________\n",
            "Layer (type)                    Output Shape         Param #     Connected to                     \n",
            "==================================================================================================\n",
            "input_2 (InputLayer)            [(None, 128, 128, 3) 0                                            \n",
            "__________________________________________________________________________________________________\n",
            "conv2d_7 (Conv2D)               (None, 128, 128, 16) 448         input_2[0][0]                    \n",
            "__________________________________________________________________________________________________\n",
            "max_pooling2d_2 (MaxPooling2D)  (None, 64, 64, 16)   0           conv2d_7[0][0]                   \n",
            "__________________________________________________________________________________________________\n",
            "conv2d_8 (Conv2D)               (None, 64, 64, 32)   4640        max_pooling2d_2[0][0]            \n",
            "__________________________________________________________________________________________________\n",
            "max_pooling2d_3 (MaxPooling2D)  (None, 32, 32, 32)   0           conv2d_8[0][0]                   \n",
            "__________________________________________________________________________________________________\n",
            "conv2d_9 (Conv2D)               (None, 32, 32, 64)   18496       max_pooling2d_3[0][0]            \n",
            "__________________________________________________________________________________________________\n",
            "conv2d_10 (Conv2D)              (None, 32, 32, 64)   36928       conv2d_9[0][0]                   \n",
            "__________________________________________________________________________________________________\n",
            "up_sampling2d_2 (UpSampling2D)  (None, 64, 64, 64)   0           conv2d_10[0][0]                  \n",
            "__________________________________________________________________________________________________\n",
            "concatenate_2 (Concatenate)     (None, 64, 64, 96)   0           up_sampling2d_2[0][0]            \n",
            "                                                                 conv2d_8[0][0]                   \n",
            "__________________________________________________________________________________________________\n",
            "conv2d_11 (Conv2D)              (None, 64, 64, 32)   27680       concatenate_2[0][0]              \n",
            "__________________________________________________________________________________________________\n",
            "up_sampling2d_3 (UpSampling2D)  (None, 128, 128, 32) 0           conv2d_11[0][0]                  \n",
            "__________________________________________________________________________________________________\n",
            "concatenate_3 (Concatenate)     (None, 128, 128, 48) 0           up_sampling2d_3[0][0]            \n",
            "                                                                 conv2d_7[0][0]                   \n",
            "__________________________________________________________________________________________________\n",
            "conv2d_12 (Conv2D)              (None, 128, 128, 16) 6928        concatenate_3[0][0]              \n",
            "__________________________________________________________________________________________________\n",
            "conv2d_13 (Conv2D)              (None, 128, 128, 1)  145         conv2d_12[0][0]                  \n",
            "==================================================================================================\n",
            "Total params: 95,265\n",
            "Trainable params: 95,265\n",
            "Non-trainable params: 0\n",
            "__________________________________________________________________________________________________\n"
          ]
        }
      ],
      "source": [
        "InLayer = keras.Input(shape=(128, 128, 3 ))\n",
        "conv1 = Conv2D(16, kernel_size=3,padding=\"same\", data_format = \"channels_last\",activation='relu')(InLayer)\n",
        "max1 = MaxPooling2D(pool_size=(2, 2))(conv1)\n",
        "conv2 = Conv2D(32, kernel_size=3,padding=\"same\", activation='relu' )(max1)\n",
        "max2 = MaxPooling2D(pool_size=(2, 2))(conv2)\n",
        "conv3 = Conv2D(64, kernel_size=3,padding=\"same\", activation='relu' )(max2)\n",
        "\n",
        "\n",
        "conv4 = Conv2D(64, kernel_size=3,padding=\"same\", activation='relu' )(conv3)\n",
        "up1 = UpSampling2D( size=(2, 2),  interpolation=\"nearest\")(conv4)\n",
        "conc1 = Concatenate()([up1, conv2])\n",
        "conv5 = Conv2D(32, kernel_size=3,padding=\"same\", activation='relu' )(conc1)\n",
        "up2 = UpSampling2D( size=(2, 2),  interpolation=\"nearest\")(conv5)\n",
        "conc2 = Concatenate()([up2, conv1])\n",
        "conv6 = Conv2D(16, kernel_size=3,padding=\"same\", activation='relu')(conc2)\n",
        "# Conv2D(1, kernel_size=3,padding=\"same\", activation='relu')\n",
        "\n",
        "OutLayer = Conv2D(1, kernel_size=3,padding=\"same\", activation='sigmoid')(conv6)\n",
        "\n",
        "fmodel = Model(inputs=InLayer, outputs=OutLayer)\n",
        "fmodel.summary()"
      ]
    },
    {
      "cell_type": "code",
      "execution_count": null,
      "metadata": {
        "id": "0r3HfYy93jcU"
      },
      "outputs": [],
      "source": [
        "fmodel.compile(loss = \"categorical_crossentropy\",  \n",
        "   optimizer = 'rmsprop', metrics = ['accuracy'])"
      ]
    },
    {
      "cell_type": "markdown",
      "metadata": {
        "id": "wToD7pIXqoo_"
      },
      "source": [
        "##Get training data\n",
        "training data is read from folder and normalised to get all pixel colour values between 0 and 1 instead of 0 and 255 to apply sigmoid function to classify the pixels into within lane or outside lane."
      ]
    },
    {
      "cell_type": "code",
      "execution_count": null,
      "metadata": {
        "colab": {
          "base_uri": "https://localhost:8080/",
          "height": 737,
          "referenced_widgets": [
            "321c9eaf65964ffd92bbdb2e94ff0949",
            "483106f50c07403eba6343ff5740b547",
            "8b5ba81a5c8f4d08aec7259114728133",
            "e46cd0dfb6b04a2eb2521df4a5a52f8d",
            "7b5e068c21ac45a68cc6218b5ae9e32e",
            "bfd79577df9043d78358b8d2ca9883ab",
            "aa5166fe3ecf4c1fb0d0828ef252d5b2",
            "e64311bc40254851a484bd3a36f1e0f8",
            "fca14396f3db4dc485da337b766657d0",
            "110cdc52618546f3a938bee08c430f7e",
            "45eb9e37d87d4ee298b7004e7fb1bc8d",
            "a4f5176776ff41bca86325c3bb2caba2",
            "8f94eabd0b434fe2acfe7697b3130054",
            "d4f2298f4d174ab8aded97c02fdce3f6",
            "ad1a63c9ebfc4440be70729877acad74",
            "140f989ef2d04d41b80806d92f388cca"
          ]
        },
        "id": "mPaedYi7ynJZ",
        "outputId": "b2d55b6b-8b79-4bc9-8d3a-3648a6ef48cb"
      },
      "outputs": [
        {
          "name": "stderr",
          "output_type": "stream",
          "text": [
            "/usr/local/lib/python3.7/dist-packages/ipykernel_launcher.py:9: TqdmDeprecationWarning: This function will be removed in tqdm==5.0.0\n",
            "Please use `tqdm.notebook.tqdm` instead of `tqdm.tqdm_notebook`\n",
            "  if __name__ == '__main__':\n"
          ]
        },
        {
          "data": {
            "application/vnd.jupyter.widget-view+json": {
              "model_id": "321c9eaf65964ffd92bbdb2e94ff0949",
              "version_major": 2,
              "version_minor": 0
            },
            "text/plain": [
              "HBox(children=(FloatProgress(value=0.0, max=337.0), HTML(value='')))"
            ]
          },
          "metadata": {
            "tags": []
          },
          "output_type": "display_data"
        },
        {
          "name": "stdout",
          "output_type": "stream",
          "text": [
            "\n"
          ]
        },
        {
          "name": "stderr",
          "output_type": "stream",
          "text": [
            "/usr/local/lib/python3.7/dist-packages/ipykernel_launcher.py:17: TqdmDeprecationWarning: This function will be removed in tqdm==5.0.0\n",
            "Please use `tqdm.notebook.tqdm` instead of `tqdm.tqdm_notebook`\n"
          ]
        },
        {
          "data": {
            "application/vnd.jupyter.widget-view+json": {
              "model_id": "fca14396f3db4dc485da337b766657d0",
              "version_major": 2,
              "version_minor": 0
            },
            "text/plain": [
              "HBox(children=(FloatProgress(value=0.0, max=337.0), HTML(value='')))"
            ]
          },
          "metadata": {
            "tags": []
          },
          "output_type": "display_data"
        },
        {
          "name": "stdout",
          "output_type": "stream",
          "text": [
            "\n"
          ]
        },
        {
          "data": {
            "image/png": "[encoded data removed]",
            "text/plain": [
              "<Figure size 432x288 with 1 Axes>"
            ]
          },
          "metadata": {
            "needs_background": "light",
            "tags": []
          },
          "output_type": "display_data"
        },
        {
          "data": {
            "image/png": "[encoded data removed]",
            "text/plain": [
              "<Figure size 432x288 with 1 Axes>"
            ]
          },
          "metadata": {
            "needs_background": "light",
            "tags": []
          },
          "output_type": "display_data"
        },
        {
          "name": "stdout",
          "output_type": "stream",
          "text": [
            "337\n"
          ]
        }
      ],
      "source": [
        "# X= readFrameFolder('/content/drive/My Drive/lane_detection/input_sampled/')\n",
        "# y= readFrameFolder('/content/drive/My Drive/lane_detection/output_sampled/', bin=True)\n",
        "\n",
        "col_frames = os.listdir('/content/drive/My Drive/lane_detection/input_sampled/')\n",
        "col_frames.sort(key=lambda f: int(re.sub('\\D', '', f)))\n",
        "\n",
        "  # load frames\n",
        "X=[]\n",
        "for i in tqdm_notebook(col_frames):\n",
        "    img = cv2.imread('/content/drive/My Drive/lane_detection/input_sampled/'+''+i)\n",
        "    X.append(img)\n",
        "col_frames = os.listdir('/content/drive/My Drive/lane_detection/output_sampled/')\n",
        "col_frames.sort(key=lambda f: int(re.sub('\\D', '', f)))\n",
        "\n",
        "  # load frames\n",
        "y=[]\n",
        "for i in tqdm_notebook(col_frames):\n",
        "    img = cv2.imread('/content/drive/My Drive/lane_detection/output_sampled/'+''+i)\n",
        "    img = cv2.cvtColor(img, cv2.COLOR_BGR2GRAY)\n",
        "    y.append(img)\n",
        "\n",
        "\n",
        "plt.imshow(X[0])\n",
        "plt.show()\n",
        "plt.imshow(y[0])\n",
        "plt.show()\n",
        "print(len(X))"
      ]
    },
    {
      "cell_type": "code",
      "execution_count": null,
      "metadata": {
        "colab": {
          "base_uri": "https://localhost:8080/",
          "height": 385
        },
        "id": "aQ9lLHOcApF2",
        "outputId": "9de982ed-1fa7-40ca-c09f-5f065508e787"
      },
      "outputs": [
        {
          "data": {
            "image/png": "[encoded data removed]",
            "text/plain": [
              "<Figure size 432x288 with 1 Axes>"
            ]
          },
          "metadata": {
            "tags": []
          },
          "output_type": "display_data"
        },
        {
          "data": {
            "text/plain": [
              "array([[0., 0., 0., ..., 0., 0., 0.],\n",
              "       [0., 0., 0., ..., 0., 0., 0.],\n",
              "       [0., 0., 0., ..., 0., 0., 0.],\n",
              "       ...,\n",
              "       [0., 1., 1., ..., 0., 0., 0.],\n",
              "       [1., 1., 1., ..., 0., 0., 0.],\n",
              "       [1., 1., 1., ..., 0., 0., 0.]])"
            ]
          },
          "execution_count": 119,
          "metadata": {
            "tags": []
          },
          "output_type": "execute_result"
        }
      ],
      "source": [
        "x_train=np.array(X)\n",
        "y_train=np.array(y)\n",
        "\n",
        "#normalising the data\n",
        "x_train=x_train/255\n",
        "y_train=y_train/255\n",
        "\n",
        "\n",
        "print(y_train.shape)\n",
        "plt.imshow(y_train[0])\n",
        "plt.show()\n"
      ]
    },
    {
      "cell_type": "code",
      "execution_count": null,
      "metadata": {
        "colab": {
          "base_uri": "https://localhost:8080/"
        },
        "id": "B94A95Hi4jtK",
        "outputId": "0546a6ae-bfc9-4591-9ed4-4aee894ae236"
      },
      "outputs": [
        {
          "name": "stdout",
          "output_type": "stream",
          "text": [
            "Epoch 1/200\n",
            "9/9 [==============================] - 27s 3s/step - loss: 176.6396 - accuracy: 0.4603 - val_loss: 168.4208 - val_accuracy: 0.5139\n",
            "Epoch 2/200\n",
            "9/9 [==============================] - 26s 3s/step - loss: 175.2609 - accuracy: 0.5595 - val_loss: 166.7355 - val_accuracy: 0.7952\n",
            "Epoch 3/200\n",
            "9/9 [==============================] - 27s 3s/step - loss: 170.7874 - accuracy: 0.8228 - val_loss: 162.4824 - val_accuracy: 0.8508\n",
            "Epoch 4/200\n",
            "9/9 [==============================] - 26s 3s/step - loss: 168.2727 - accuracy: 0.8173 - val_loss: 158.5537 - val_accuracy: 0.8469\n",
            "Epoch 5/200\n",
            "9/9 [==============================] - 26s 3s/step - loss: 164.1057 - accuracy: 0.8284 - val_loss: 158.1127 - val_accuracy: 0.9181\n",
            "Epoch 6/200\n",
            "9/9 [==============================] - 26s 3s/step - loss: 164.0604 - accuracy: 0.8613 - val_loss: 156.9753 - val_accuracy: 0.9521\n",
            "Epoch 7/200\n",
            "9/9 [==============================] - 26s 3s/step - loss: 165.8450 - accuracy: 0.8352 - val_loss: 157.0587 - val_accuracy: 0.8682\n",
            "Epoch 8/200\n",
            "9/9 [==============================] - 26s 3s/step - loss: 161.6074 - accuracy: 0.8400 - val_loss: 155.9066 - val_accuracy: 0.9653\n",
            "Epoch 9/200\n",
            "9/9 [==============================] - 26s 3s/step - loss: 161.4821 - accuracy: 0.8769 - val_loss: 157.7402 - val_accuracy: 0.9522\n",
            "Epoch 10/200\n",
            "9/9 [==============================] - 26s 3s/step - loss: 163.1031 - accuracy: 0.8523 - val_loss: 155.2778 - val_accuracy: 0.9725\n",
            "Epoch 11/200\n",
            "9/9 [==============================] - 26s 3s/step - loss: 161.4950 - accuracy: 0.8996 - val_loss: 156.4613 - val_accuracy: 0.7609\n",
            "Epoch 12/200\n",
            "9/9 [==============================] - 26s 3s/step - loss: 162.3775 - accuracy: 0.8098 - val_loss: 155.2714 - val_accuracy: 0.9756\n",
            "Epoch 13/200\n",
            "9/9 [==============================] - 26s 3s/step - loss: 161.8749 - accuracy: 0.8718 - val_loss: 154.8756 - val_accuracy: 0.9241\n",
            "Epoch 14/200\n",
            "9/9 [==============================] - 26s 3s/step - loss: 160.7794 - accuracy: 0.9086 - val_loss: 155.4818 - val_accuracy: 0.8088\n",
            "Epoch 15/200\n",
            "9/9 [==============================] - 26s 3s/step - loss: 161.1861 - accuracy: 0.8326 - val_loss: 158.6461 - val_accuracy: 0.9401\n",
            "Epoch 16/200\n",
            "9/9 [==============================] - 26s 3s/step - loss: 162.5284 - accuracy: 0.8389 - val_loss: 154.7026 - val_accuracy: 0.9129\n",
            "Epoch 17/200\n",
            "9/9 [==============================] - 26s 3s/step - loss: 160.8820 - accuracy: 0.8854 - val_loss: 156.1638 - val_accuracy: 0.8022\n",
            "Epoch 18/200\n",
            "9/9 [==============================] - 26s 3s/step - loss: 162.1115 - accuracy: 0.8476 - val_loss: 154.6902 - val_accuracy: 0.9709\n",
            "Epoch 19/200\n",
            "9/9 [==============================] - 26s 3s/step - loss: 159.9277 - accuracy: 0.9269 - val_loss: 154.6842 - val_accuracy: 0.9782\n",
            "Epoch 20/200\n",
            "9/9 [==============================] - 26s 3s/step - loss: 161.2445 - accuracy: 0.8861 - val_loss: 155.4837 - val_accuracy: 0.8492\n",
            "Epoch 21/200\n",
            "9/9 [==============================] - 26s 3s/step - loss: 160.3623 - accuracy: 0.8331 - val_loss: 154.6206 - val_accuracy: 0.9200\n",
            "Epoch 22/200\n",
            "9/9 [==============================] - 26s 3s/step - loss: 161.3733 - accuracy: 0.8675 - val_loss: 154.8177 - val_accuracy: 0.7512\n",
            "Epoch 23/200\n",
            "9/9 [==============================] - 26s 3s/step - loss: 160.4173 - accuracy: 0.7666 - val_loss: 155.0880 - val_accuracy: 0.7506\n",
            "Epoch 24/200\n",
            "9/9 [==============================] - 26s 3s/step - loss: 161.0929 - accuracy: 0.8562 - val_loss: 154.7543 - val_accuracy: 0.9554\n",
            "Epoch 25/200\n",
            "9/9 [==============================] - 26s 3s/step - loss: 159.5226 - accuracy: 0.9028 - val_loss: 155.1495 - val_accuracy: 0.8090\n",
            "Epoch 26/200\n",
            "9/9 [==============================] - 26s 3s/step - loss: 162.2484 - accuracy: 0.8345 - val_loss: 154.5463 - val_accuracy: 0.9302\n",
            "Epoch 27/200\n",
            "9/9 [==============================] - 26s 3s/step - loss: 159.9269 - accuracy: 0.8892 - val_loss: 154.4562 - val_accuracy: 0.9773\n",
            "Epoch 28/200\n",
            "9/9 [==============================] - 26s 3s/step - loss: 159.9954 - accuracy: 0.9035 - val_loss: 154.5552 - val_accuracy: 0.8778\n",
            "Epoch 29/200\n",
            "9/9 [==============================] - 26s 3s/step - loss: 159.8407 - accuracy: 0.8382 - val_loss: 154.5316 - val_accuracy: 0.9288\n",
            "Epoch 30/200\n",
            "9/9 [==============================] - 26s 3s/step - loss: 159.4868 - accuracy: 0.8926 - val_loss: 154.3823 - val_accuracy: 0.7784\n",
            "Epoch 31/200\n",
            "9/9 [==============================] - 26s 3s/step - loss: 160.3399 - accuracy: 0.8671 - val_loss: 154.4184 - val_accuracy: 0.9836\n",
            "Epoch 32/200\n",
            "9/9 [==============================] - 26s 3s/step - loss: 160.0731 - accuracy: 0.9782 - val_loss: 157.0952 - val_accuracy: 0.9592\n",
            "Epoch 33/200\n",
            "9/9 [==============================] - 26s 3s/step - loss: 161.0709 - accuracy: 0.8306 - val_loss: 154.2197 - val_accuracy: 0.8212\n",
            "Epoch 34/200\n",
            "9/9 [==============================] - 26s 3s/step - loss: 160.2239 - accuracy: 0.8564 - val_loss: 154.2969 - val_accuracy: 0.9455\n",
            "Epoch 35/200\n",
            "9/9 [==============================] - 26s 3s/step - loss: 159.9039 - accuracy: 0.9435 - val_loss: 154.0604 - val_accuracy: 0.9849\n",
            "Epoch 36/200\n",
            "9/9 [==============================] - 26s 3s/step - loss: 162.4320 - accuracy: 0.9231 - val_loss: 154.2602 - val_accuracy: 0.7458\n",
            "Epoch 37/200\n",
            "9/9 [==============================] - 26s 3s/step - loss: 160.6823 - accuracy: 0.7367 - val_loss: 154.2334 - val_accuracy: 0.7534\n",
            "Epoch 38/200\n",
            "9/9 [==============================] - 26s 3s/step - loss: 160.2140 - accuracy: 0.7450 - val_loss: 155.6884 - val_accuracy: 0.7628\n",
            "Epoch 39/200\n",
            "9/9 [==============================] - 26s 3s/step - loss: 161.0667 - accuracy: 0.7621 - val_loss: 154.0811 - val_accuracy: 0.7750\n",
            "Epoch 40/200\n",
            "9/9 [==============================] - 26s 3s/step - loss: 160.0399 - accuracy: 0.7663 - val_loss: 154.3123 - val_accuracy: 0.7822\n",
            "Epoch 41/200\n",
            "9/9 [==============================] - 26s 3s/step - loss: 160.6793 - accuracy: 0.8199 - val_loss: 154.1994 - val_accuracy: 0.8988\n",
            "Epoch 42/200\n",
            "9/9 [==============================] - 26s 3s/step - loss: 159.6780 - accuracy: 0.8858 - val_loss: 154.1249 - val_accuracy: 0.9650\n",
            "Epoch 43/200\n",
            "9/9 [==============================] - 33s 4s/step - loss: 159.5433 - accuracy: 0.9640 - val_loss: 154.1155 - val_accuracy: 0.9503\n",
            "Epoch 44/200\n",
            "9/9 [==============================] - 26s 3s/step - loss: 159.9184 - accuracy: 0.9296 - val_loss: 155.2848 - val_accuracy: 0.9777\n",
            "Epoch 45/200\n",
            "9/9 [==============================] - 26s 3s/step - loss: 161.2505 - accuracy: 0.8839 - val_loss: 154.7465 - val_accuracy: 0.9827\n",
            "Epoch 46/200\n",
            "9/9 [==============================] - 26s 3s/step - loss: 159.9255 - accuracy: 0.9668 - val_loss: 154.1761 - val_accuracy: 0.9463\n",
            "Epoch 47/200\n",
            "9/9 [==============================] - 26s 3s/step - loss: 159.5028 - accuracy: 0.9461 - val_loss: 154.3276 - val_accuracy: 0.9842\n",
            "Epoch 48/200\n",
            "9/9 [==============================] - 26s 3s/step - loss: 159.6958 - accuracy: 0.9753 - val_loss: 154.5299 - val_accuracy: 0.9209\n",
            "Epoch 49/200\n",
            "9/9 [==============================] - 26s 3s/step - loss: 159.6899 - accuracy: 0.9448 - val_loss: 154.2004 - val_accuracy: 0.9799\n",
            "Epoch 50/200\n",
            "9/9 [==============================] - 26s 3s/step - loss: 159.2574 - accuracy: 0.9786 - val_loss: 154.4991 - val_accuracy: 0.9688\n",
            "Epoch 51/200\n",
            "9/9 [==============================] - 26s 3s/step - loss: 159.6784 - accuracy: 0.9715 - val_loss: 153.9924 - val_accuracy: 0.9832\n",
            "Epoch 52/200\n",
            "9/9 [==============================] - 25s 3s/step - loss: 160.3643 - accuracy: 0.9810 - val_loss: 154.2264 - val_accuracy: 0.9804\n",
            "Epoch 53/200\n",
            "9/9 [==============================] - 25s 3s/step - loss: 159.2617 - accuracy: 0.9772 - val_loss: 153.9134 - val_accuracy: 0.9855\n",
            "Epoch 54/200\n",
            "9/9 [==============================] - 26s 3s/step - loss: 159.8510 - accuracy: 0.9815 - val_loss: 156.6738 - val_accuracy: 0.9378\n",
            "Epoch 55/200\n",
            "9/9 [==============================] - 25s 3s/step - loss: 160.3432 - accuracy: 0.9439 - val_loss: 154.0839 - val_accuracy: 0.9807\n",
            "Epoch 56/200\n",
            "9/9 [==============================] - 26s 3s/step - loss: 160.1729 - accuracy: 0.9799 - val_loss: 154.1949 - val_accuracy: 0.9833\n",
            "Epoch 57/200\n",
            "9/9 [==============================] - 26s 3s/step - loss: 159.6687 - accuracy: 0.9789 - val_loss: 154.2072 - val_accuracy: 0.9839\n",
            "Epoch 58/200\n",
            "9/9 [==============================] - 26s 3s/step - loss: 159.6571 - accuracy: 0.9818 - val_loss: 154.1873 - val_accuracy: 0.9820\n",
            "Epoch 59/200\n",
            "9/9 [==============================] - 26s 3s/step - loss: 160.4307 - accuracy: 0.9723 - val_loss: 154.0772 - val_accuracy: 0.8765\n",
            "Epoch 60/200\n",
            "9/9 [==============================] - 26s 3s/step - loss: 159.9021 - accuracy: 0.9466 - val_loss: 154.0997 - val_accuracy: 0.9807\n",
            "Epoch 61/200\n",
            "9/9 [==============================] - 26s 3s/step - loss: 159.8613 - accuracy: 0.9817 - val_loss: 154.6358 - val_accuracy: 0.9738\n",
            "Epoch 62/200\n",
            "9/9 [==============================] - 26s 3s/step - loss: 159.7597 - accuracy: 0.9778 - val_loss: 154.1867 - val_accuracy: 0.9842\n",
            "Epoch 63/200\n",
            "9/9 [==============================] - 26s 3s/step - loss: 159.5387 - accuracy: 0.9802 - val_loss: 154.1674 - val_accuracy: 0.9841\n",
            "Epoch 64/200\n",
            "9/9 [==============================] - 26s 3s/step - loss: 160.3907 - accuracy: 0.9792 - val_loss: 154.0472 - val_accuracy: 0.9851\n",
            "Epoch 65/200\n",
            "9/9 [==============================] - 26s 3s/step - loss: 160.1429 - accuracy: 0.9716 - val_loss: 153.7186 - val_accuracy: 0.9870\n",
            "Epoch 66/200\n",
            "9/9 [==============================] - 26s 3s/step - loss: 159.6623 - accuracy: 0.9813 - val_loss: 153.9781 - val_accuracy: 0.9844\n",
            "Epoch 67/200\n",
            "9/9 [==============================] - 26s 3s/step - loss: 158.9466 - accuracy: 0.9823 - val_loss: 154.0174 - val_accuracy: 0.9847\n",
            "Epoch 68/200\n",
            "9/9 [==============================] - 26s 3s/step - loss: 159.4378 - accuracy: 0.9821 - val_loss: 154.3693 - val_accuracy: 0.9837\n",
            "Epoch 69/200\n",
            "9/9 [==============================] - 25s 3s/step - loss: 160.2912 - accuracy: 0.9800 - val_loss: 154.2202 - val_accuracy: 0.9827\n",
            "Epoch 70/200\n",
            "9/9 [==============================] - 26s 3s/step - loss: 158.9998 - accuracy: 0.9772 - val_loss: 154.1742 - val_accuracy: 0.9847\n",
            "Epoch 71/200\n",
            "9/9 [==============================] - 26s 3s/step - loss: 159.4674 - accuracy: 0.9817 - val_loss: 154.1000 - val_accuracy: 0.9855\n",
            "Epoch 72/200\n",
            "9/9 [==============================] - 26s 3s/step - loss: 159.4731 - accuracy: 0.9820 - val_loss: 154.6718 - val_accuracy: 0.9696\n",
            "Epoch 73/200\n",
            "9/9 [==============================] - 25s 3s/step - loss: 158.9574 - accuracy: 0.9786 - val_loss: 154.3578 - val_accuracy: 0.9833\n",
            "Epoch 74/200\n",
            "9/9 [==============================] - 25s 3s/step - loss: 159.6767 - accuracy: 0.9821 - val_loss: 153.9771 - val_accuracy: 0.9865\n",
            "Epoch 75/200\n",
            "9/9 [==============================] - 25s 3s/step - loss: 160.4708 - accuracy: 0.9722 - val_loss: 154.2782 - val_accuracy: 0.9848\n",
            "Epoch 76/200\n",
            "9/9 [==============================] - 25s 3s/step - loss: 159.6475 - accuracy: 0.9817 - val_loss: 153.7823 - val_accuracy: 0.9869\n",
            "Epoch 77/200\n",
            "9/9 [==============================] - 26s 3s/step - loss: 159.9119 - accuracy: 0.9826 - val_loss: 154.2167 - val_accuracy: 0.9836\n",
            "Epoch 78/200\n",
            "9/9 [==============================] - 25s 3s/step - loss: 160.1419 - accuracy: 0.9812 - val_loss: 154.7879 - val_accuracy: 0.9730\n",
            "Epoch 79/200\n",
            "9/9 [==============================] - 25s 3s/step - loss: 159.4266 - accuracy: 0.9819 - val_loss: 154.3012 - val_accuracy: 0.9843\n",
            "Epoch 80/200\n",
            "9/9 [==============================] - 25s 3s/step - loss: 159.4975 - accuracy: 0.9831 - val_loss: 154.3651 - val_accuracy: 0.9836\n",
            "Epoch 81/200\n",
            "9/9 [==============================] - 25s 3s/step - loss: 159.7688 - accuracy: 0.9825 - val_loss: 154.0088 - val_accuracy: 0.9868\n",
            "Epoch 82/200\n",
            "9/9 [==============================] - 25s 3s/step - loss: 159.7541 - accuracy: 0.9819 - val_loss: 154.8175 - val_accuracy: 0.9768\n",
            "Epoch 83/200\n",
            "9/9 [==============================] - 25s 3s/step - loss: 159.4636 - accuracy: 0.9772 - val_loss: 154.2524 - val_accuracy: 0.9844\n",
            "Epoch 84/200\n",
            "9/9 [==============================] - 25s 3s/step - loss: 159.0763 - accuracy: 0.9819 - val_loss: 154.2167 - val_accuracy: 0.9832\n",
            "Epoch 85/200\n",
            "9/9 [==============================] - 25s 3s/step - loss: 159.9973 - accuracy: 0.9803 - val_loss: 154.6919 - val_accuracy: 0.9816\n",
            "Epoch 86/200\n",
            "9/9 [==============================] - 26s 3s/step - loss: 160.0442 - accuracy: 0.9701 - val_loss: 154.3696 - val_accuracy: 0.9845\n",
            "Epoch 87/200\n",
            "9/9 [==============================] - 26s 3s/step - loss: 159.8508 - accuracy: 0.9813 - val_loss: 154.0553 - val_accuracy: 0.9848\n",
            "Epoch 88/200\n",
            "9/9 [==============================] - 25s 3s/step - loss: 159.8534 - accuracy: 0.9809 - val_loss: 154.2556 - val_accuracy: 0.9863\n",
            "Epoch 89/200\n",
            "9/9 [==============================] - 25s 3s/step - loss: 159.5872 - accuracy: 0.9821 - val_loss: 154.0812 - val_accuracy: 0.9840\n",
            "Epoch 90/200\n",
            "9/9 [==============================] - 25s 3s/step - loss: 159.3095 - accuracy: 0.9702 - val_loss: 153.8415 - val_accuracy: 0.9861\n",
            "Epoch 91/200\n",
            "9/9 [==============================] - 25s 3s/step - loss: 159.6975 - accuracy: 0.9809 - val_loss: 154.3095 - val_accuracy: 0.9858\n",
            "Epoch 92/200\n",
            "9/9 [==============================] - 25s 3s/step - loss: 160.1419 - accuracy: 0.9814 - val_loss: 154.5943 - val_accuracy: 0.9824\n",
            "Epoch 93/200\n",
            "9/9 [==============================] - 26s 3s/step - loss: 159.3742 - accuracy: 0.9823 - val_loss: 154.1340 - val_accuracy: 0.9863\n",
            "Epoch 94/200\n",
            "9/9 [==============================] - 26s 3s/step - loss: 159.3465 - accuracy: 0.9818 - val_loss: 154.4738 - val_accuracy: 0.9840\n",
            "Epoch 95/200\n",
            "9/9 [==============================] - 25s 3s/step - loss: 159.4736 - accuracy: 0.9832 - val_loss: 154.9184 - val_accuracy: 0.9829\n",
            "Epoch 96/200\n",
            "9/9 [==============================] - 25s 3s/step - loss: 159.2397 - accuracy: 0.9824 - val_loss: 154.7733 - val_accuracy: 0.9690\n",
            "Epoch 97/200\n",
            "9/9 [==============================] - 25s 3s/step - loss: 159.5684 - accuracy: 0.9733 - val_loss: 154.2144 - val_accuracy: 0.9844\n",
            "Epoch 98/200\n",
            "9/9 [==============================] - 25s 3s/step - loss: 159.0998 - accuracy: 0.9796 - val_loss: 154.1519 - val_accuracy: 0.9854\n",
            "Epoch 99/200\n",
            "9/9 [==============================] - 25s 3s/step - loss: 159.6039 - accuracy: 0.9831 - val_loss: 154.5045 - val_accuracy: 0.9843\n",
            "Epoch 100/200\n",
            "9/9 [==============================] - 25s 3s/step - loss: 158.9180 - accuracy: 0.9840 - val_loss: 153.9955 - val_accuracy: 0.9857\n",
            "Epoch 101/200\n",
            "9/9 [==============================] - 25s 3s/step - loss: 159.1344 - accuracy: 0.9829 - val_loss: 154.2462 - val_accuracy: 0.9834\n",
            "Epoch 102/200\n",
            "9/9 [==============================] - 25s 3s/step - loss: 159.9142 - accuracy: 0.9809 - val_loss: 154.3022 - val_accuracy: 0.9868\n",
            "Epoch 103/200\n",
            "9/9 [==============================] - 25s 3s/step - loss: 158.6413 - accuracy: 0.9816 - val_loss: 155.0039 - val_accuracy: 0.9799\n",
            "Epoch 104/200\n",
            "9/9 [==============================] - 25s 3s/step - loss: 159.2908 - accuracy: 0.9824 - val_loss: 154.5691 - val_accuracy: 0.9852\n",
            "Epoch 105/200\n",
            "9/9 [==============================] - 25s 3s/step - loss: 159.3961 - accuracy: 0.9819 - val_loss: 154.6187 - val_accuracy: 0.9842\n",
            "Epoch 106/200\n",
            "9/9 [==============================] - 25s 3s/step - loss: 159.8203 - accuracy: 0.9832 - val_loss: 154.7263 - val_accuracy: 0.9833\n",
            "Epoch 107/200\n",
            "9/9 [==============================] - 25s 3s/step - loss: 159.3306 - accuracy: 0.9820 - val_loss: 155.6171 - val_accuracy: 0.9816\n",
            "Epoch 108/200\n",
            "9/9 [==============================] - 25s 3s/step - loss: 159.8736 - accuracy: 0.9510 - val_loss: 154.5491 - val_accuracy: 0.9851\n",
            "Epoch 109/200\n",
            "9/9 [==============================] - 25s 3s/step - loss: 159.4030 - accuracy: 0.9830 - val_loss: 154.4957 - val_accuracy: 0.9860\n",
            "Epoch 110/200\n",
            "9/9 [==============================] - 25s 3s/step - loss: 159.5408 - accuracy: 0.9839 - val_loss: 154.0638 - val_accuracy: 0.9866\n",
            "Epoch 111/200\n",
            "9/9 [==============================] - 26s 3s/step - loss: 159.6090 - accuracy: 0.9841 - val_loss: 155.4318 - val_accuracy: 0.9828\n",
            "Epoch 112/200\n",
            "9/9 [==============================] - 25s 3s/step - loss: 159.7476 - accuracy: 0.9850 - val_loss: 154.8137 - val_accuracy: 0.9839\n",
            "Epoch 113/200\n",
            "9/9 [==============================] - 25s 3s/step - loss: 159.0701 - accuracy: 0.9841 - val_loss: 154.5574 - val_accuracy: 0.9853\n",
            "Epoch 114/200\n",
            "9/9 [==============================] - 25s 3s/step - loss: 159.7098 - accuracy: 0.9824 - val_loss: 153.9433 - val_accuracy: 0.9874\n",
            "Epoch 115/200\n",
            "9/9 [==============================] - 25s 3s/step - loss: 158.9170 - accuracy: 0.9823 - val_loss: 154.6086 - val_accuracy: 0.9853\n",
            "Epoch 116/200\n",
            "9/9 [==============================] - 25s 3s/step - loss: 159.5261 - accuracy: 0.9827 - val_loss: 153.8896 - val_accuracy: 0.9873\n",
            "Epoch 117/200\n",
            "9/9 [==============================] - 25s 3s/step - loss: 159.4876 - accuracy: 0.9829 - val_loss: 154.4732 - val_accuracy: 0.9838\n",
            "Epoch 118/200\n",
            "9/9 [==============================] - 26s 3s/step - loss: 158.5268 - accuracy: 0.9839 - val_loss: 154.4671 - val_accuracy: 0.9858\n",
            "Epoch 119/200\n",
            "9/9 [==============================] - 26s 3s/step - loss: 159.7762 - accuracy: 0.9829 - val_loss: 154.8675 - val_accuracy: 0.9853\n",
            "Epoch 120/200\n",
            "9/9 [==============================] - 26s 3s/step - loss: 159.1722 - accuracy: 0.9848 - val_loss: 154.4507 - val_accuracy: 0.9870\n",
            "Epoch 121/200\n",
            "9/9 [==============================] - 26s 3s/step - loss: 159.9438 - accuracy: 0.9839 - val_loss: 154.7531 - val_accuracy: 0.9838\n",
            "Epoch 122/200\n",
            "9/9 [==============================] - 26s 3s/step - loss: 159.4817 - accuracy: 0.9839 - val_loss: 154.8583 - val_accuracy: 0.9860\n",
            "Epoch 123/200\n",
            "9/9 [==============================] - 25s 3s/step - loss: 160.5057 - accuracy: 0.9703 - val_loss: 154.2967 - val_accuracy: 0.9859\n",
            "Epoch 124/200\n",
            "9/9 [==============================] - 25s 3s/step - loss: 159.2729 - accuracy: 0.9843 - val_loss: 154.4926 - val_accuracy: 0.9862\n",
            "Epoch 125/200\n",
            "9/9 [==============================] - 25s 3s/step - loss: 158.9708 - accuracy: 0.9835 - val_loss: 153.9420 - val_accuracy: 0.9880\n",
            "Epoch 126/200\n",
            "9/9 [==============================] - 25s 3s/step - loss: 158.8784 - accuracy: 0.9835 - val_loss: 154.7078 - val_accuracy: 0.9856\n",
            "Epoch 127/200\n",
            "9/9 [==============================] - 25s 3s/step - loss: 159.7391 - accuracy: 0.9845 - val_loss: 154.8538 - val_accuracy: 0.9854\n",
            "Epoch 128/200\n",
            "9/9 [==============================] - 25s 3s/step - loss: 159.4120 - accuracy: 0.9852 - val_loss: 154.8925 - val_accuracy: 0.9863\n",
            "Epoch 129/200\n",
            "9/9 [==============================] - 25s 3s/step - loss: 159.4344 - accuracy: 0.9825 - val_loss: 154.0064 - val_accuracy: 0.9872\n",
            "Epoch 130/200\n",
            "9/9 [==============================] - 25s 3s/step - loss: 159.4996 - accuracy: 0.9824 - val_loss: 155.3926 - val_accuracy: 0.9831\n",
            "Epoch 131/200\n",
            "9/9 [==============================] - 25s 3s/step - loss: 160.0120 - accuracy: 0.9847 - val_loss: 154.8041 - val_accuracy: 0.9856\n",
            "Epoch 132/200\n",
            "9/9 [==============================] - 25s 3s/step - loss: 159.2999 - accuracy: 0.9849 - val_loss: 154.0941 - val_accuracy: 0.9872\n",
            "Epoch 133/200\n",
            "9/9 [==============================] - 25s 3s/step - loss: 159.7968 - accuracy: 0.9847 - val_loss: 154.7443 - val_accuracy: 0.9837\n",
            "Epoch 134/200\n",
            "9/9 [==============================] - 25s 3s/step - loss: 158.9275 - accuracy: 0.9857 - val_loss: 154.3460 - val_accuracy: 0.9844\n",
            "Epoch 135/200\n",
            "9/9 [==============================] - 25s 3s/step - loss: 159.7317 - accuracy: 0.9811 - val_loss: 154.0590 - val_accuracy: 0.9864\n",
            "Epoch 136/200\n",
            "9/9 [==============================] - 25s 3s/step - loss: 159.8301 - accuracy: 0.9813 - val_loss: 154.4606 - val_accuracy: 0.9857\n",
            "Epoch 137/200\n",
            "9/9 [==============================] - 25s 3s/step - loss: 159.7521 - accuracy: 0.9836 - val_loss: 154.2291 - val_accuracy: 0.9856\n",
            "Epoch 138/200\n",
            "9/9 [==============================] - 25s 3s/step - loss: 159.5200 - accuracy: 0.9836 - val_loss: 154.3911 - val_accuracy: 0.9862\n",
            "Epoch 139/200\n",
            "9/9 [==============================] - 25s 3s/step - loss: 159.4203 - accuracy: 0.9843 - val_loss: 154.7114 - val_accuracy: 0.9839\n",
            "Epoch 140/200\n",
            "9/9 [==============================] - 25s 3s/step - loss: 159.1703 - accuracy: 0.9836 - val_loss: 155.1282 - val_accuracy: 0.9835\n",
            "Epoch 141/200\n",
            "9/9 [==============================] - 25s 3s/step - loss: 159.1896 - accuracy: 0.9842 - val_loss: 154.1769 - val_accuracy: 0.9867\n",
            "Epoch 142/200\n",
            "9/9 [==============================] - 25s 3s/step - loss: 159.3126 - accuracy: 0.9853 - val_loss: 154.3665 - val_accuracy: 0.9872\n",
            "Epoch 143/200\n",
            "9/9 [==============================] - 26s 3s/step - loss: 159.0436 - accuracy: 0.9854 - val_loss: 154.6559 - val_accuracy: 0.9826\n",
            "Epoch 144/200\n",
            "9/9 [==============================] - 26s 3s/step - loss: 159.2657 - accuracy: 0.9784 - val_loss: 154.7269 - val_accuracy: 0.9854\n",
            "Epoch 145/200\n",
            "9/9 [==============================] - 26s 3s/step - loss: 159.1093 - accuracy: 0.9856 - val_loss: 154.1342 - val_accuracy: 0.9853\n",
            "Epoch 146/200\n",
            "9/9 [==============================] - 25s 3s/step - loss: 159.6025 - accuracy: 0.9843 - val_loss: 154.3727 - val_accuracy: 0.9856\n",
            "Epoch 147/200\n",
            "9/9 [==============================] - 25s 3s/step - loss: 159.5778 - accuracy: 0.9850 - val_loss: 154.8139 - val_accuracy: 0.9774\n",
            "Epoch 148/200\n",
            "9/9 [==============================] - 26s 3s/step - loss: 158.4852 - accuracy: 0.9823 - val_loss: 153.7617 - val_accuracy: 0.9870\n",
            "Epoch 149/200\n",
            "9/9 [==============================] - 25s 3s/step - loss: 159.8020 - accuracy: 0.9820 - val_loss: 155.1841 - val_accuracy: 0.9852\n",
            "Epoch 150/200\n",
            "9/9 [==============================] - 26s 3s/step - loss: 159.1669 - accuracy: 0.9855 - val_loss: 154.7665 - val_accuracy: 0.9832\n",
            "Epoch 151/200\n",
            "9/9 [==============================] - 26s 3s/step - loss: 158.6601 - accuracy: 0.9844 - val_loss: 154.8161 - val_accuracy: 0.9859\n",
            "Epoch 152/200\n",
            "9/9 [==============================] - 26s 3s/step - loss: 158.9741 - accuracy: 0.9850 - val_loss: 154.5782 - val_accuracy: 0.9866\n",
            "Epoch 153/200\n",
            "9/9 [==============================] - 26s 3s/step - loss: 159.4641 - accuracy: 0.9849 - val_loss: 154.3509 - val_accuracy: 0.9844\n",
            "Epoch 154/200\n",
            "9/9 [==============================] - 25s 3s/step - loss: 159.3131 - accuracy: 0.9817 - val_loss: 153.9712 - val_accuracy: 0.9874\n",
            "Epoch 155/200\n",
            "9/9 [==============================] - 25s 3s/step - loss: 159.6573 - accuracy: 0.9843 - val_loss: 154.6422 - val_accuracy: 0.9853\n",
            "Epoch 156/200\n",
            "9/9 [==============================] - 26s 3s/step - loss: 159.9442 - accuracy: 0.9851 - val_loss: 155.5423 - val_accuracy: 0.9814\n",
            "Epoch 157/200\n",
            "9/9 [==============================] - 25s 3s/step - loss: 159.3146 - accuracy: 0.9840 - val_loss: 154.9910 - val_accuracy: 0.9841\n",
            "Epoch 158/200\n",
            "9/9 [==============================] - 25s 3s/step - loss: 159.5312 - accuracy: 0.9863 - val_loss: 155.0407 - val_accuracy: 0.9848\n",
            "Epoch 159/200\n",
            "9/9 [==============================] - 26s 3s/step - loss: 159.7654 - accuracy: 0.9807 - val_loss: 154.1409 - val_accuracy: 0.9871\n",
            "Epoch 160/200\n",
            "9/9 [==============================] - 25s 3s/step - loss: 159.6012 - accuracy: 0.9848 - val_loss: 154.3048 - val_accuracy: 0.9869\n",
            "Epoch 161/200\n",
            "9/9 [==============================] - 25s 3s/step - loss: 159.0579 - accuracy: 0.9849 - val_loss: 154.8578 - val_accuracy: 0.9858\n",
            "Epoch 162/200\n",
            "9/9 [==============================] - 26s 3s/step - loss: 161.2095 - accuracy: 0.9679 - val_loss: 154.1681 - val_accuracy: 0.9853\n",
            "Epoch 163/200\n",
            "9/9 [==============================] - 25s 3s/step - loss: 158.8663 - accuracy: 0.9787 - val_loss: 154.2278 - val_accuracy: 0.9861\n",
            "Epoch 164/200\n",
            "9/9 [==============================] - 25s 3s/step - loss: 159.6045 - accuracy: 0.9840 - val_loss: 154.4324 - val_accuracy: 0.9857\n",
            "Epoch 165/200\n",
            "9/9 [==============================] - 26s 3s/step - loss: 159.2322 - accuracy: 0.9846 - val_loss: 155.6114 - val_accuracy: 0.9832\n",
            "Epoch 166/200\n",
            "9/9 [==============================] - 26s 3s/step - loss: 160.0672 - accuracy: 0.9845 - val_loss: 154.4406 - val_accuracy: 0.9866\n",
            "Epoch 167/200\n",
            "9/9 [==============================] - 27s 3s/step - loss: 159.2902 - accuracy: 0.9860 - val_loss: 155.2035 - val_accuracy: 0.9849\n",
            "Epoch 168/200\n",
            "9/9 [==============================] - 26s 3s/step - loss: 158.7467 - accuracy: 0.9863 - val_loss: 154.9480 - val_accuracy: 0.9864\n",
            "Epoch 169/200\n",
            "9/9 [==============================] - 25s 3s/step - loss: 158.6030 - accuracy: 0.9860 - val_loss: 155.9882 - val_accuracy: 0.9818\n",
            "Epoch 170/200\n",
            "9/9 [==============================] - 25s 3s/step - loss: 158.8101 - accuracy: 0.9858 - val_loss: 155.0927 - val_accuracy: 0.9805\n",
            "Epoch 171/200\n",
            "9/9 [==============================] - 26s 3s/step - loss: 159.7558 - accuracy: 0.9835 - val_loss: 154.6111 - val_accuracy: 0.9869\n",
            "Epoch 172/200\n",
            "9/9 [==============================] - 25s 3s/step - loss: 159.1971 - accuracy: 0.9862 - val_loss: 154.1735 - val_accuracy: 0.9860\n",
            "Epoch 173/200\n",
            "9/9 [==============================] - 25s 3s/step - loss: 159.3719 - accuracy: 0.9841 - val_loss: 159.0043 - val_accuracy: 0.9707\n",
            "Epoch 174/200\n",
            "9/9 [==============================] - 25s 3s/step - loss: 158.9380 - accuracy: 0.9808 - val_loss: 154.3633 - val_accuracy: 0.9856\n",
            "Epoch 175/200\n",
            "9/9 [==============================] - 25s 3s/step - loss: 159.8001 - accuracy: 0.9859 - val_loss: 155.1975 - val_accuracy: 0.9852\n",
            "Epoch 176/200\n",
            "9/9 [==============================] - 25s 3s/step - loss: 159.0042 - accuracy: 0.9857 - val_loss: 156.2084 - val_accuracy: 0.9828\n",
            "Epoch 177/200\n",
            "9/9 [==============================] - 25s 3s/step - loss: 158.9527 - accuracy: 0.9859 - val_loss: 155.0371 - val_accuracy: 0.9858\n",
            "Epoch 178/200\n",
            "9/9 [==============================] - 25s 3s/step - loss: 159.7744 - accuracy: 0.9852 - val_loss: 154.4469 - val_accuracy: 0.9850\n",
            "Epoch 179/200\n",
            "9/9 [==============================] - 25s 3s/step - loss: 159.7290 - accuracy: 0.9862 - val_loss: 154.9571 - val_accuracy: 0.9849\n",
            "Epoch 180/200\n",
            "9/9 [==============================] - 25s 3s/step - loss: 159.7641 - accuracy: 0.9842 - val_loss: 155.0760 - val_accuracy: 0.9865\n",
            "Epoch 181/200\n",
            "9/9 [==============================] - 25s 3s/step - loss: 159.3896 - accuracy: 0.9862 - val_loss: 154.7256 - val_accuracy: 0.9864\n",
            "Epoch 182/200\n",
            "9/9 [==============================] - 25s 3s/step - loss: 159.4239 - accuracy: 0.9847 - val_loss: 153.9688 - val_accuracy: 0.9872\n",
            "Epoch 183/200\n",
            "9/9 [==============================] - 25s 3s/step - loss: 158.9369 - accuracy: 0.9842 - val_loss: 155.7166 - val_accuracy: 0.9840\n",
            "Epoch 184/200\n",
            "9/9 [==============================] - 25s 3s/step - loss: 159.1633 - accuracy: 0.9867 - val_loss: 156.0089 - val_accuracy: 0.9839\n",
            "Epoch 185/200\n",
            "9/9 [==============================] - 25s 3s/step - loss: 159.1880 - accuracy: 0.9858 - val_loss: 155.8466 - val_accuracy: 0.9842\n",
            "Epoch 186/200\n",
            "9/9 [==============================] - 25s 3s/step - loss: 158.9628 - accuracy: 0.9865 - val_loss: 155.2696 - val_accuracy: 0.9848\n",
            "Epoch 187/200\n",
            "9/9 [==============================] - 26s 3s/step - loss: 159.1065 - accuracy: 0.9858 - val_loss: 155.7496 - val_accuracy: 0.9831\n",
            "Epoch 188/200\n",
            "9/9 [==============================] - 26s 3s/step - loss: 159.2809 - accuracy: 0.9857 - val_loss: 154.9437 - val_accuracy: 0.9852\n",
            "Epoch 189/200\n",
            "9/9 [==============================] - 26s 3s/step - loss: 159.6382 - accuracy: 0.9858 - val_loss: 154.4727 - val_accuracy: 0.9861\n",
            "Epoch 190/200\n",
            "9/9 [==============================] - 26s 3s/step - loss: 159.2826 - accuracy: 0.9859 - val_loss: 155.1309 - val_accuracy: 0.9830\n",
            "Epoch 191/200\n",
            "9/9 [==============================] - 25s 3s/step - loss: 159.2712 - accuracy: 0.9828 - val_loss: 155.7143 - val_accuracy: 0.9851\n",
            "Epoch 192/200\n",
            "9/9 [==============================] - 25s 3s/step - loss: 160.3178 - accuracy: 0.9853 - val_loss: 156.1136 - val_accuracy: 0.9836\n",
            "Epoch 193/200\n",
            "9/9 [==============================] - 25s 3s/step - loss: 158.9861 - accuracy: 0.9856 - val_loss: 155.2793 - val_accuracy: 0.9850\n",
            "Epoch 194/200\n",
            "9/9 [==============================] - 25s 3s/step - loss: 159.0634 - accuracy: 0.9855 - val_loss: 156.9859 - val_accuracy: 0.9811\n",
            "Epoch 195/200\n",
            "9/9 [==============================] - 25s 3s/step - loss: 159.1970 - accuracy: 0.9861 - val_loss: 155.7150 - val_accuracy: 0.9842\n",
            "Epoch 196/200\n",
            "9/9 [==============================] - 25s 3s/step - loss: 159.3190 - accuracy: 0.9856 - val_loss: 154.6561 - val_accuracy: 0.9856\n",
            "Epoch 197/200\n",
            "9/9 [==============================] - 26s 3s/step - loss: 159.0663 - accuracy: 0.9857 - val_loss: 156.0230 - val_accuracy: 0.9837\n",
            "Epoch 198/200\n",
            "9/9 [==============================] - 27s 3s/step - loss: 159.0296 - accuracy: 0.9864 - val_loss: 156.5795 - val_accuracy: 0.9811\n",
            "Epoch 199/200\n",
            "9/9 [==============================] - 26s 3s/step - loss: 159.2626 - accuracy: 0.9850 - val_loss: 154.9862 - val_accuracy: 0.9855\n",
            "Epoch 200/200\n",
            "9/9 [==============================] - 27s 3s/step - loss: 159.6069 - accuracy: 0.9728 - val_loss: 155.2767 - val_accuracy: 0.9839\n"
          ]
        },
        {
          "data": {
            "text/plain": [
              "<tensorflow.python.keras.callbacks.History at 0x7f47cb631c50>"
            ]
          },
          "execution_count": 120,
          "metadata": {
            "tags": []
          },
          "output_type": "execute_result"
        }
      ],
      "source": [
        "fmodel.fit(x_train, y_train, epochs=200, validation_split=0.2)"
      ]
    },
    {
      "cell_type": "code",
      "execution_count": null,
      "metadata": {
        "colab": {
          "base_uri": "https://localhost:8080/"
        },
        "id": "r4heemY01adJ",
        "outputId": "53450f37-555d-443d-f0c6-8a67ca6239fe"
      },
      "outputs": [
        {
          "name": "stdout",
          "output_type": "stream",
          "text": [
            "INFO:tensorflow:Assets written to: /content/drive/My Drive/lane_detection/trained_model3_200_fixed.h5/assets\n"
          ]
        }
      ],
      "source": [
        "fmodel.save('/content/drive/My Drive/lane_detection/trained_model3_200_fixed.h5/')"
      ]
    },
    {
      "cell_type": "code",
      "execution_count": null,
      "metadata": {
        "id": "fnM1lWhbyJSS"
      },
      "outputs": [],
      "source": [
        "fmodel = load_model('/content/drive/My Drive/lane_detection/trained_model3_200_fixed.h5')"
      ]
    },
    {
      "cell_type": "markdown",
      "metadata": {
        "id": "npRROQnNrS6B"
      },
      "source": [
        "#Testing the model"
      ]
    },
    {
      "cell_type": "code",
      "execution_count": null,
      "metadata": {
        "colab": {
          "base_uri": "https://localhost:8080/"
        },
        "id": "kjxXx-54VZkz",
        "outputId": "26f3ccc0-6dcb-430b-cabc-07c6d4185817"
      },
      "outputs": [
        {
          "name": "stdout",
          "output_type": "stream",
          "text": [
            "Test loss: 164.99606323242188\n",
            "Test accuracy: 0.9814453125\n"
          ]
        }
      ],
      "source": [
        "# initial evaluation using the training dataset:\n",
        "\n",
        "score = fmodel.evaluate(test_data, res_data, verbose = 0) \n",
        "print('Test loss:', score[0]) \n",
        "print('Test accuracy:', score[1])"
      ]
    },
    {
      "cell_type": "code",
      "execution_count": null,
      "metadata": {
        "colab": {
          "base_uri": "https://localhost:8080/",
          "height": 285
        },
        "id": "dwTtVGAczFGG",
        "outputId": "ce2267f2-d36c-487a-dcce-258e33f8a8a1"
      },
      "outputs": [
        {
          "data": {
            "text/plain": [
              "<matplotlib.image.AxesImage at 0x7fec4225ab90>"
            ]
          },
          "execution_count": 12,
          "metadata": {
            "tags": []
          },
          "output_type": "execute_result"
        },
        {
          "data": {
            "image/png": "[encoded data removed]",
            "text/plain": [
              "<Figure size 432x288 with 1 Axes>"
            ]
          },
          "metadata": {
            "needs_background": "light",
            "tags": []
          },
          "output_type": "display_data"
        }
      ],
      "source": [
        "#read video for testing\n",
        "test_frames = vid2photos('/content/drive/My Drive/lane_detection/videoplayback.mp4')\n",
        "#normalise frames to have similar value range to model training input\n",
        "test_frames=np.array(test_frames)/255\n",
        "plt.imshow(test_frames[0])"
      ]
    },
    {
      "cell_type": "code",
      "execution_count": null,
      "metadata": {
        "colab": {
          "base_uri": "https://localhost:8080/",
          "height": 268
        },
        "id": "4B5hEAEq2sd1",
        "outputId": "dc21a30a-255a-4491-d124-4c16f039de34"
      },
      "outputs": [
        {
          "data": {
            "image/png": "[encoded data removed]",
            "text/plain": [
              "<Figure size 432x288 with 1 Axes>"
            ]
          },
          "metadata": {
            "needs_background": "light",
            "tags": []
          },
          "output_type": "display_data"
        }
      ],
      "source": [
        "\n",
        "pred_vid=fmodel.predict(np.array(test_frames))\n",
        "#stretch colour value range to 0 to 255 again to match the expected image format for saving\n",
        "pred_video=np.round(np.array(pred_vid)*255)\n",
        "plt.imshow(pred_video[50][:,:,0])\n",
        "plt.show()"
      ]
    },
    {
      "cell_type": "code",
      "execution_count": null,
      "metadata": {
        "colab": {
          "base_uri": "https://localhost:8080/",
          "height": 268
        },
        "id": "_V0A8PT8NQQE",
        "outputId": "eb291840-4401-42f2-89fd-e432942790f3"
      },
      "outputs": [
        {
          "data": {
            "image/png": "[encoded data removed]",
            "text/plain": [
              "<Figure size 432x288 with 1 Axes>"
            ]
          },
          "metadata": {
            "needs_background": "light",
            "tags": []
          },
          "output_type": "display_data"
        }
      ],
      "source": [
        "plt.imshow(test_frames[50])\n",
        "plt.imshow(pred_video[50][:,:,0], cmap='gray',alpha=0.3)\n",
        "plt.show()"
      ]
    },
    {
      "cell_type": "code",
      "execution_count": null,
      "metadata": {
        "colab": {
          "base_uri": "https://localhost:8080/",
          "height": 116,
          "referenced_widgets": [
            "138c3fb0e83c4138b65b3dd78e8ff976",
            "524e2fc9bec645bb98db7d081da2a97f",
            "33885d3d8ef647df88b77a01a8971a29",
            "2bd8cf5c030545f3a0b81e7f198c7106",
            "e41684ea0d6d4b599d4a10df1488442a",
            "c531ea3863f740daad0f1c753e8fe9cd",
            "aa21989cca8847eaae21a758c07f8194",
            "4c4ef9826c79439ba721c90cf913932a"
          ]
        },
        "id": "R1d0vwc3f1Kt",
        "outputId": "578d345f-9af8-496a-b5a7-2b5c6c29d97e"
      },
      "outputs": [
        {
          "name": "stderr",
          "output_type": "stream",
          "text": [
            "/usr/local/lib/python3.7/dist-packages/ipykernel_launcher.py:2: TqdmDeprecationWarning: This function will be removed in tqdm==5.0.0\n",
            "Please use `tqdm.notebook.tqdm` instead of `tqdm.tqdm_notebook`\n",
            "  \n"
          ]
        },
        {
          "data": {
            "application/vnd.jupyter.widget-view+json": {
              "model_id": "138c3fb0e83c4138b65b3dd78e8ff976",
              "version_major": 2,
              "version_minor": 0
            },
            "text/plain": [
              "HBox(children=(FloatProgress(value=0.0, max=1683.0), HTML(value='')))"
            ]
          },
          "metadata": {
            "tags": []
          },
          "output_type": "display_data"
        },
        {
          "name": "stdout",
          "output_type": "stream",
          "text": [
            "\n"
          ]
        }
      ],
      "source": [
        "j=0\n",
        "for img in tqdm_notebook(pred_video):\n",
        "  # print(i)\n",
        "  cv2.imwrite('/content/drive/My Drive/lane_detection/ML3_200_fixed/'+str(j)+'.png',img[:,:,0])\n",
        "  j+=1"
      ]
    },
    {
      "cell_type": "code",
      "execution_count": null,
      "metadata": {
        "colab": {
          "base_uri": "https://localhost:8080/",
          "height": 692,
          "referenced_widgets": [
            "08375dc376e84c5aa07689982ce4af5d",
            "ce06f28d11114feaa181fc9f17d6fdfd",
            "464c3e432d4f451990cdbe40ba9b3131",
            "532fe73ee19c4b06a8590eb452952d9d",
            "66c0fd88b0de4a70a3ac87164a7aa91a",
            "0f9ff9ee116140b9a57fc78c646aaeb8",
            "951ac721bd664665bceb6172dceb9f16",
            "a0b891a8e3c64fc9963f883477630dcb"
          ]
        },
        "id": "yG-hliGyfTJD",
        "outputId": "84b98466-7a3c-4921-b085-5030dea2c48e"
      },
      "outputs": [
        {
          "name": "stderr",
          "output_type": "stream",
          "text": [
            "/usr/local/lib/python3.7/dist-packages/ipykernel_launcher.py:20: TqdmDeprecationWarning: This function will be removed in tqdm==5.0.0\n",
            "Please use `tqdm.notebook.tqdm` instead of `tqdm.tqdm_notebook`\n"
          ]
        },
        {
          "data": {
            "application/vnd.jupyter.widget-view+json": {
              "model_id": "08375dc376e84c5aa07689982ce4af5d",
              "version_major": 2,
              "version_minor": 0
            },
            "text/plain": [
              "HBox(children=(FloatProgress(value=0.0, max=1683.0), HTML(value='')))"
            ]
          },
          "metadata": {
            "tags": []
          },
          "output_type": "display_data"
        },
        {
          "name": "stdout",
          "output_type": "stream",
          "text": [
            "\n"
          ]
        },
        {
          "data": {
            "image/png": "[encoded data removed]",
            "text/plain": [
              "<Figure size 720x720 with 1 Axes>"
            ]
          },
          "metadata": {
            "tags": []
          },
          "output_type": "display_data"
        },
        {
          "data": {
            "text/plain": [
              "True"
            ]
          },
          "execution_count": 127,
          "metadata": {
            "tags": []
          },
          "output_type": "execute_result"
        }
      ],
      "source": [
        "photos2vid('/content/drive/My Drive/lane_detection/ML3_200_fixed/','/content/drive/My Drive/lane_detection/videoML_3_500_2.mp4')"
      ]
    }
  ],
  "metadata": {
    "colab": {
      "collapsed_sections": [],
      "name": "Lane_detect_ML.ipynb",
      "provenance": [],
      "toc_visible": true
    },
    "kernelspec": {
      "display_name": "Python 3",
      "name": "python3"
    },
    "widgets": {
      "application/vnd.jupyter.widget-state+json": {
        "08375dc376e84c5aa07689982ce4af5d": {
          "model_module": "@jupyter-widgets/controls",
          "model_name": "HBoxModel",
          "state": {
            "_dom_classes": [],
            "_model_module": "@jupyter-widgets/controls",
            "_model_module_version": "1.5.0",
            "_model_name": "HBoxModel",
            "_view_count": null,
            "_view_module": "@jupyter-widgets/controls",
            "_view_module_version": "1.5.0",
            "_view_name": "HBoxView",
            "box_style": "",
            "children": [
              "IPY_MODEL_ce06f28d11114feaa181fc9f17d6fdfd",
              "IPY_MODEL_464c3e432d4f451990cdbe40ba9b3131"
            ],
            "layout": "IPY_MODEL_532fe73ee19c4b06a8590eb452952d9d"
          }
        },
        "0f9ff9ee116140b9a57fc78c646aaeb8": {
          "model_module": "@jupyter-widgets/controls",
          "model_name": "ProgressStyleModel",
          "state": {
            "_model_module": "@jupyter-widgets/controls",
            "_model_module_version": "1.5.0",
            "_model_name": "ProgressStyleModel",
            "_view_count": null,
            "_view_module": "@jupyter-widgets/base",
            "_view_module_version": "1.2.0",
            "_view_name": "StyleView",
            "bar_color": null,
            "description_width": "initial"
          }
        },
        "110cdc52618546f3a938bee08c430f7e": {
          "model_module": "@jupyter-widgets/base",
          "model_name": "LayoutModel",
          "state": {
            "_model_module": "@jupyter-widgets/base",
            "_model_module_version": "1.2.0",
            "_model_name": "LayoutModel",
            "_view_count": null,
            "_view_module": "@jupyter-widgets/base",
            "_view_module_version": "1.2.0",
            "_view_name": "LayoutView",
            "align_content": null,
            "align_items": null,
            "align_self": null,
            "border": null,
            "bottom": null,
            "display": null,
            "flex": null,
            "flex_flow": null,
            "grid_area": null,
            "grid_auto_columns": null,
            "grid_auto_flow": null,
            "grid_auto_rows": null,
            "grid_column": null,
            "grid_gap": null,
            "grid_row": null,
            "grid_template_areas": null,
            "grid_template_columns": null,
            "grid_template_rows": null,
            "height": null,
            "justify_content": null,
            "justify_items": null,
            "left": null,
            "margin": null,
            "max_height": null,
            "max_width": null,
            "min_height": null,
            "min_width": null,
            "object_fit": null,
            "object_position": null,
            "order": null,
            "overflow": null,
            "overflow_x": null,
            "overflow_y": null,
            "padding": null,
            "right": null,
            "top": null,
            "visibility": null,
            "width": null
          }
        },
        "138c3fb0e83c4138b65b3dd78e8ff976": {
          "model_module": "@jupyter-widgets/controls",
          "model_name": "HBoxModel",
          "state": {
            "_dom_classes": [],
            "_model_module": "@jupyter-widgets/controls",
            "_model_module_version": "1.5.0",
            "_model_name": "HBoxModel",
            "_view_count": null,
            "_view_module": "@jupyter-widgets/controls",
            "_view_module_version": "1.5.0",
            "_view_name": "HBoxView",
            "box_style": "",
            "children": [
              "IPY_MODEL_524e2fc9bec645bb98db7d081da2a97f",
              "IPY_MODEL_33885d3d8ef647df88b77a01a8971a29"
            ],
            "layout": "IPY_MODEL_2bd8cf5c030545f3a0b81e7f198c7106"
          }
        },
        "140f989ef2d04d41b80806d92f388cca": {
          "model_module": "@jupyter-widgets/base",
          "model_name": "LayoutModel",
          "state": {
            "_model_module": "@jupyter-widgets/base",
            "_model_module_version": "1.2.0",
            "_model_name": "LayoutModel",
            "_view_count": null,
            "_view_module": "@jupyter-widgets/base",
            "_view_module_version": "1.2.0",
            "_view_name": "LayoutView",
            "align_content": null,
            "align_items": null,
            "align_self": null,
            "border": null,
            "bottom": null,
            "display": null,
            "flex": null,
            "flex_flow": null,
            "grid_area": null,
            "grid_auto_columns": null,
            "grid_auto_flow": null,
            "grid_auto_rows": null,
            "grid_column": null,
            "grid_gap": null,
            "grid_row": null,
            "grid_template_areas": null,
            "grid_template_columns": null,
            "grid_template_rows": null,
            "height": null,
            "justify_content": null,
            "justify_items": null,
            "left": null,
            "margin": null,
            "max_height": null,
            "max_width": null,
            "min_height": null,
            "min_width": null,
            "object_fit": null,
            "object_position": null,
            "order": null,
            "overflow": null,
            "overflow_x": null,
            "overflow_y": null,
            "padding": null,
            "right": null,
            "top": null,
            "visibility": null,
            "width": null
          }
        },
        "2bd8cf5c030545f3a0b81e7f198c7106": {
          "model_module": "@jupyter-widgets/base",
          "model_name": "LayoutModel",
          "state": {
            "_model_module": "@jupyter-widgets/base",
            "_model_module_version": "1.2.0",
            "_model_name": "LayoutModel",
            "_view_count": null,
            "_view_module": "@jupyter-widgets/base",
            "_view_module_version": "1.2.0",
            "_view_name": "LayoutView",
            "align_content": null,
            "align_items": null,
            "align_self": null,
            "border": null,
            "bottom": null,
            "display": null,
            "flex": null,
            "flex_flow": null,
            "grid_area": null,
            "grid_auto_columns": null,
            "grid_auto_flow": null,
            "grid_auto_rows": null,
            "grid_column": null,
            "grid_gap": null,
            "grid_row": null,
            "grid_template_areas": null,
            "grid_template_columns": null,
            "grid_template_rows": null,
            "height": null,
            "justify_content": null,
            "justify_items": null,
            "left": null,
            "margin": null,
            "max_height": null,
            "max_width": null,
            "min_height": null,
            "min_width": null,
            "object_fit": null,
            "object_position": null,
            "order": null,
            "overflow": null,
            "overflow_x": null,
            "overflow_y": null,
            "padding": null,
            "right": null,
            "top": null,
            "visibility": null,
            "width": null
          }
        },
        "321c9eaf65964ffd92bbdb2e94ff0949": {
          "model_module": "@jupyter-widgets/controls",
          "model_name": "HBoxModel",
          "state": {
            "_dom_classes": [],
            "_model_module": "@jupyter-widgets/controls",
            "_model_module_version": "1.5.0",
            "_model_name": "HBoxModel",
            "_view_count": null,
            "_view_module": "@jupyter-widgets/controls",
            "_view_module_version": "1.5.0",
            "_view_name": "HBoxView",
            "box_style": "",
            "children": [
              "IPY_MODEL_8b5ba81a5c8f4d08aec7259114728133",
              "IPY_MODEL_e46cd0dfb6b04a2eb2521df4a5a52f8d"
            ],
            "layout": "IPY_MODEL_483106f50c07403eba6343ff5740b547"
          }
        },
        "33885d3d8ef647df88b77a01a8971a29": {
          "model_module": "@jupyter-widgets/controls",
          "model_name": "HTMLModel",
          "state": {
            "_dom_classes": [],
            "_model_module": "@jupyter-widgets/controls",
            "_model_module_version": "1.5.0",
            "_model_name": "HTMLModel",
            "_view_count": null,
            "_view_module": "@jupyter-widgets/controls",
            "_view_module_version": "1.5.0",
            "_view_name": "HTMLView",
            "description": "",
            "description_tooltip": null,
            "layout": "IPY_MODEL_aa21989cca8847eaae21a758c07f8194",
            "placeholder": "​",
            "style": "IPY_MODEL_4c4ef9826c79439ba721c90cf913932a",
            "value": " 1683/1683 [00:19&lt;00:00, 87.91it/s]"
          }
        },
        "45eb9e37d87d4ee298b7004e7fb1bc8d": {
          "model_module": "@jupyter-widgets/controls",
          "model_name": "FloatProgressModel",
          "state": {
            "_dom_classes": [],
            "_model_module": "@jupyter-widgets/controls",
            "_model_module_version": "1.5.0",
            "_model_name": "FloatProgressModel",
            "_view_count": null,
            "_view_module": "@jupyter-widgets/controls",
            "_view_module_version": "1.5.0",
            "_view_name": "ProgressView",
            "bar_style": "success",
            "description": "100%",
            "description_tooltip": null,
            "layout": "IPY_MODEL_d4f2298f4d174ab8aded97c02fdce3f6",
            "max": 337,
            "min": 0,
            "orientation": "horizontal",
            "style": "IPY_MODEL_8f94eabd0b434fe2acfe7697b3130054",
            "value": 337
          }
        },
        "464c3e432d4f451990cdbe40ba9b3131": {
          "model_module": "@jupyter-widgets/controls",
          "model_name": "HTMLModel",
          "state": {
            "_dom_classes": [],
            "_model_module": "@jupyter-widgets/controls",
            "_model_module_version": "1.5.0",
            "_model_name": "HTMLModel",
            "_view_count": null,
            "_view_module": "@jupyter-widgets/controls",
            "_view_module_version": "1.5.0",
            "_view_name": "HTMLView",
            "description": "",
            "description_tooltip": null,
            "layout": "IPY_MODEL_951ac721bd664665bceb6172dceb9f16",
            "placeholder": "​",
            "style": "IPY_MODEL_a0b891a8e3c64fc9963f883477630dcb",
            "value": " 1683/1683 [00:04&lt;00:00, 362.23it/s]"
          }
        },
        "483106f50c07403eba6343ff5740b547": {
          "model_module": "@jupyter-widgets/base",
          "model_name": "LayoutModel",
          "state": {
            "_model_module": "@jupyter-widgets/base",
            "_model_module_version": "1.2.0",
            "_model_name": "LayoutModel",
            "_view_count": null,
            "_view_module": "@jupyter-widgets/base",
            "_view_module_version": "1.2.0",
            "_view_name": "LayoutView",
            "align_content": null,
            "align_items": null,
            "align_self": null,
            "border": null,
            "bottom": null,
            "display": null,
            "flex": null,
            "flex_flow": null,
            "grid_area": null,
            "grid_auto_columns": null,
            "grid_auto_flow": null,
            "grid_auto_rows": null,
            "grid_column": null,
            "grid_gap": null,
            "grid_row": null,
            "grid_template_areas": null,
            "grid_template_columns": null,
            "grid_template_rows": null,
            "height": null,
            "justify_content": null,
            "justify_items": null,
            "left": null,
            "margin": null,
            "max_height": null,
            "max_width": null,
            "min_height": null,
            "min_width": null,
            "object_fit": null,
            "object_position": null,
            "order": null,
            "overflow": null,
            "overflow_x": null,
            "overflow_y": null,
            "padding": null,
            "right": null,
            "top": null,
            "visibility": null,
            "width": null
          }
        },
        "4c4ef9826c79439ba721c90cf913932a": {
          "model_module": "@jupyter-widgets/controls",
          "model_name": "DescriptionStyleModel",
          "state": {
            "_model_module": "@jupyter-widgets/controls",
            "_model_module_version": "1.5.0",
            "_model_name": "DescriptionStyleModel",
            "_view_count": null,
            "_view_module": "@jupyter-widgets/base",
            "_view_module_version": "1.2.0",
            "_view_name": "StyleView",
            "description_width": ""
          }
        },
        "524e2fc9bec645bb98db7d081da2a97f": {
          "model_module": "@jupyter-widgets/controls",
          "model_name": "FloatProgressModel",
          "state": {
            "_dom_classes": [],
            "_model_module": "@jupyter-widgets/controls",
            "_model_module_version": "1.5.0",
            "_model_name": "FloatProgressModel",
            "_view_count": null,
            "_view_module": "@jupyter-widgets/controls",
            "_view_module_version": "1.5.0",
            "_view_name": "ProgressView",
            "bar_style": "success",
            "description": "100%",
            "description_tooltip": null,
            "layout": "IPY_MODEL_e41684ea0d6d4b599d4a10df1488442a",
            "max": 1683,
            "min": 0,
            "orientation": "horizontal",
            "style": "IPY_MODEL_c531ea3863f740daad0f1c753e8fe9cd",
            "value": 1683
          }
        },
        "532fe73ee19c4b06a8590eb452952d9d": {
          "model_module": "@jupyter-widgets/base",
          "model_name": "LayoutModel",
          "state": {
            "_model_module": "@jupyter-widgets/base",
            "_model_module_version": "1.2.0",
            "_model_name": "LayoutModel",
            "_view_count": null,
            "_view_module": "@jupyter-widgets/base",
            "_view_module_version": "1.2.0",
            "_view_name": "LayoutView",
            "align_content": null,
            "align_items": null,
            "align_self": null,
            "border": null,
            "bottom": null,
            "display": null,
            "flex": null,
            "flex_flow": null,
            "grid_area": null,
            "grid_auto_columns": null,
            "grid_auto_flow": null,
            "grid_auto_rows": null,
            "grid_column": null,
            "grid_gap": null,
            "grid_row": null,
            "grid_template_areas": null,
            "grid_template_columns": null,
            "grid_template_rows": null,
            "height": null,
            "justify_content": null,
            "justify_items": null,
            "left": null,
            "margin": null,
            "max_height": null,
            "max_width": null,
            "min_height": null,
            "min_width": null,
            "object_fit": null,
            "object_position": null,
            "order": null,
            "overflow": null,
            "overflow_x": null,
            "overflow_y": null,
            "padding": null,
            "right": null,
            "top": null,
            "visibility": null,
            "width": null
          }
        },
        "66c0fd88b0de4a70a3ac87164a7aa91a": {
          "model_module": "@jupyter-widgets/base",
          "model_name": "LayoutModel",
          "state": {
            "_model_module": "@jupyter-widgets/base",
            "_model_module_version": "1.2.0",
            "_model_name": "LayoutModel",
            "_view_count": null,
            "_view_module": "@jupyter-widgets/base",
            "_view_module_version": "1.2.0",
            "_view_name": "LayoutView",
            "align_content": null,
            "align_items": null,
            "align_self": null,
            "border": null,
            "bottom": null,
            "display": null,
            "flex": null,
            "flex_flow": null,
            "grid_area": null,
            "grid_auto_columns": null,
            "grid_auto_flow": null,
            "grid_auto_rows": null,
            "grid_column": null,
            "grid_gap": null,
            "grid_row": null,
            "grid_template_areas": null,
            "grid_template_columns": null,
            "grid_template_rows": null,
            "height": null,
            "justify_content": null,
            "justify_items": null,
            "left": null,
            "margin": null,
            "max_height": null,
            "max_width": null,
            "min_height": null,
            "min_width": null,
            "object_fit": null,
            "object_position": null,
            "order": null,
            "overflow": null,
            "overflow_x": null,
            "overflow_y": null,
            "padding": null,
            "right": null,
            "top": null,
            "visibility": null,
            "width": null
          }
        },
        "7b5e068c21ac45a68cc6218b5ae9e32e": {
          "model_module": "@jupyter-widgets/controls",
          "model_name": "ProgressStyleModel",
          "state": {
            "_model_module": "@jupyter-widgets/controls",
            "_model_module_version": "1.5.0",
            "_model_name": "ProgressStyleModel",
            "_view_count": null,
            "_view_module": "@jupyter-widgets/base",
            "_view_module_version": "1.2.0",
            "_view_name": "StyleView",
            "bar_color": null,
            "description_width": "initial"
          }
        },
        "8b5ba81a5c8f4d08aec7259114728133": {
          "model_module": "@jupyter-widgets/controls",
          "model_name": "FloatProgressModel",
          "state": {
            "_dom_classes": [],
            "_model_module": "@jupyter-widgets/controls",
            "_model_module_version": "1.5.0",
            "_model_name": "FloatProgressModel",
            "_view_count": null,
            "_view_module": "@jupyter-widgets/controls",
            "_view_module_version": "1.5.0",
            "_view_name": "ProgressView",
            "bar_style": "success",
            "description": "100%",
            "description_tooltip": null,
            "layout": "IPY_MODEL_bfd79577df9043d78358b8d2ca9883ab",
            "max": 337,
            "min": 0,
            "orientation": "horizontal",
            "style": "IPY_MODEL_7b5e068c21ac45a68cc6218b5ae9e32e",
            "value": 337
          }
        },
        "8f94eabd0b434fe2acfe7697b3130054": {
          "model_module": "@jupyter-widgets/controls",
          "model_name": "ProgressStyleModel",
          "state": {
            "_model_module": "@jupyter-widgets/controls",
            "_model_module_version": "1.5.0",
            "_model_name": "ProgressStyleModel",
            "_view_count": null,
            "_view_module": "@jupyter-widgets/base",
            "_view_module_version": "1.2.0",
            "_view_name": "StyleView",
            "bar_color": null,
            "description_width": "initial"
          }
        },
        "951ac721bd664665bceb6172dceb9f16": {
          "model_module": "@jupyter-widgets/base",
          "model_name": "LayoutModel",
          "state": {
            "_model_module": "@jupyter-widgets/base",
            "_model_module_version": "1.2.0",
            "_model_name": "LayoutModel",
            "_view_count": null,
            "_view_module": "@jupyter-widgets/base",
            "_view_module_version": "1.2.0",
            "_view_name": "LayoutView",
            "align_content": null,
            "align_items": null,
            "align_self": null,
            "border": null,
            "bottom": null,
            "display": null,
            "flex": null,
            "flex_flow": null,
            "grid_area": null,
            "grid_auto_columns": null,
            "grid_auto_flow": null,
            "grid_auto_rows": null,
            "grid_column": null,
            "grid_gap": null,
            "grid_row": null,
            "grid_template_areas": null,
            "grid_template_columns": null,
            "grid_template_rows": null,
            "height": null,
            "justify_content": null,
            "justify_items": null,
            "left": null,
            "margin": null,
            "max_height": null,
            "max_width": null,
            "min_height": null,
            "min_width": null,
            "object_fit": null,
            "object_position": null,
            "order": null,
            "overflow": null,
            "overflow_x": null,
            "overflow_y": null,
            "padding": null,
            "right": null,
            "top": null,
            "visibility": null,
            "width": null
          }
        },
        "a0b891a8e3c64fc9963f883477630dcb": {
          "model_module": "@jupyter-widgets/controls",
          "model_name": "DescriptionStyleModel",
          "state": {
            "_model_module": "@jupyter-widgets/controls",
            "_model_module_version": "1.5.0",
            "_model_name": "DescriptionStyleModel",
            "_view_count": null,
            "_view_module": "@jupyter-widgets/base",
            "_view_module_version": "1.2.0",
            "_view_name": "StyleView",
            "description_width": ""
          }
        },
        "a4f5176776ff41bca86325c3bb2caba2": {
          "model_module": "@jupyter-widgets/controls",
          "model_name": "HTMLModel",
          "state": {
            "_dom_classes": [],
            "_model_module": "@jupyter-widgets/controls",
            "_model_module_version": "1.5.0",
            "_model_name": "HTMLModel",
            "_view_count": null,
            "_view_module": "@jupyter-widgets/controls",
            "_view_module_version": "1.5.0",
            "_view_name": "HTMLView",
            "description": "",
            "description_tooltip": null,
            "layout": "IPY_MODEL_140f989ef2d04d41b80806d92f388cca",
            "placeholder": "​",
            "style": "IPY_MODEL_ad1a63c9ebfc4440be70729877acad74",
            "value": " 337/337 [02:24&lt;00:00,  2.33it/s]"
          }
        },
        "aa21989cca8847eaae21a758c07f8194": {
          "model_module": "@jupyter-widgets/base",
          "model_name": "LayoutModel",
          "state": {
            "_model_module": "@jupyter-widgets/base",
            "_model_module_version": "1.2.0",
            "_model_name": "LayoutModel",
            "_view_count": null,
            "_view_module": "@jupyter-widgets/base",
            "_view_module_version": "1.2.0",
            "_view_name": "LayoutView",
            "align_content": null,
            "align_items": null,
            "align_self": null,
            "border": null,
            "bottom": null,
            "display": null,
            "flex": null,
            "flex_flow": null,
            "grid_area": null,
            "grid_auto_columns": null,
            "grid_auto_flow": null,
            "grid_auto_rows": null,
            "grid_column": null,
            "grid_gap": null,
            "grid_row": null,
            "grid_template_areas": null,
            "grid_template_columns": null,
            "grid_template_rows": null,
            "height": null,
            "justify_content": null,
            "justify_items": null,
            "left": null,
            "margin": null,
            "max_height": null,
            "max_width": null,
            "min_height": null,
            "min_width": null,
            "object_fit": null,
            "object_position": null,
            "order": null,
            "overflow": null,
            "overflow_x": null,
            "overflow_y": null,
            "padding": null,
            "right": null,
            "top": null,
            "visibility": null,
            "width": null
          }
        },
        "aa5166fe3ecf4c1fb0d0828ef252d5b2": {
          "model_module": "@jupyter-widgets/controls",
          "model_name": "DescriptionStyleModel",
          "state": {
            "_model_module": "@jupyter-widgets/controls",
            "_model_module_version": "1.5.0",
            "_model_name": "DescriptionStyleModel",
            "_view_count": null,
            "_view_module": "@jupyter-widgets/base",
            "_view_module_version": "1.2.0",
            "_view_name": "StyleView",
            "description_width": ""
          }
        },
        "ad1a63c9ebfc4440be70729877acad74": {
          "model_module": "@jupyter-widgets/controls",
          "model_name": "DescriptionStyleModel",
          "state": {
            "_model_module": "@jupyter-widgets/controls",
            "_model_module_version": "1.5.0",
            "_model_name": "DescriptionStyleModel",
            "_view_count": null,
            "_view_module": "@jupyter-widgets/base",
            "_view_module_version": "1.2.0",
            "_view_name": "StyleView",
            "description_width": ""
          }
        },
        "bfd79577df9043d78358b8d2ca9883ab": {
          "model_module": "@jupyter-widgets/base",
          "model_name": "LayoutModel",
          "state": {
            "_model_module": "@jupyter-widgets/base",
            "_model_module_version": "1.2.0",
            "_model_name": "LayoutModel",
            "_view_count": null,
            "_view_module": "@jupyter-widgets/base",
            "_view_module_version": "1.2.0",
            "_view_name": "LayoutView",
            "align_content": null,
            "align_items": null,
            "align_self": null,
            "border": null,
            "bottom": null,
            "display": null,
            "flex": null,
            "flex_flow": null,
            "grid_area": null,
            "grid_auto_columns": null,
            "grid_auto_flow": null,
            "grid_auto_rows": null,
            "grid_column": null,
            "grid_gap": null,
            "grid_row": null,
            "grid_template_areas": null,
            "grid_template_columns": null,
            "grid_template_rows": null,
            "height": null,
            "justify_content": null,
            "justify_items": null,
            "left": null,
            "margin": null,
            "max_height": null,
            "max_width": null,
            "min_height": null,
            "min_width": null,
            "object_fit": null,
            "object_position": null,
            "order": null,
            "overflow": null,
            "overflow_x": null,
            "overflow_y": null,
            "padding": null,
            "right": null,
            "top": null,
            "visibility": null,
            "width": null
          }
        },
        "c531ea3863f740daad0f1c753e8fe9cd": {
          "model_module": "@jupyter-widgets/controls",
          "model_name": "ProgressStyleModel",
          "state": {
            "_model_module": "@jupyter-widgets/controls",
            "_model_module_version": "1.5.0",
            "_model_name": "ProgressStyleModel",
            "_view_count": null,
            "_view_module": "@jupyter-widgets/base",
            "_view_module_version": "1.2.0",
            "_view_name": "StyleView",
            "bar_color": null,
            "description_width": "initial"
          }
        },
        "ce06f28d11114feaa181fc9f17d6fdfd": {
          "model_module": "@jupyter-widgets/controls",
          "model_name": "FloatProgressModel",
          "state": {
            "_dom_classes": [],
            "_model_module": "@jupyter-widgets/controls",
            "_model_module_version": "1.5.0",
            "_model_name": "FloatProgressModel",
            "_view_count": null,
            "_view_module": "@jupyter-widgets/controls",
            "_view_module_version": "1.5.0",
            "_view_name": "ProgressView",
            "bar_style": "success",
            "description": "100%",
            "description_tooltip": null,
            "layout": "IPY_MODEL_66c0fd88b0de4a70a3ac87164a7aa91a",
            "max": 1683,
            "min": 0,
            "orientation": "horizontal",
            "style": "IPY_MODEL_0f9ff9ee116140b9a57fc78c646aaeb8",
            "value": 1683
          }
        },
        "d4f2298f4d174ab8aded97c02fdce3f6": {
          "model_module": "@jupyter-widgets/base",
          "model_name": "LayoutModel",
          "state": {
            "_model_module": "@jupyter-widgets/base",
            "_model_module_version": "1.2.0",
            "_model_name": "LayoutModel",
            "_view_count": null,
            "_view_module": "@jupyter-widgets/base",
            "_view_module_version": "1.2.0",
            "_view_name": "LayoutView",
            "align_content": null,
            "align_items": null,
            "align_self": null,
            "border": null,
            "bottom": null,
            "display": null,
            "flex": null,
            "flex_flow": null,
            "grid_area": null,
            "grid_auto_columns": null,
            "grid_auto_flow": null,
            "grid_auto_rows": null,
            "grid_column": null,
            "grid_gap": null,
            "grid_row": null,
            "grid_template_areas": null,
            "grid_template_columns": null,
            "grid_template_rows": null,
            "height": null,
            "justify_content": null,
            "justify_items": null,
            "left": null,
            "margin": null,
            "max_height": null,
            "max_width": null,
            "min_height": null,
            "min_width": null,
            "object_fit": null,
            "object_position": null,
            "order": null,
            "overflow": null,
            "overflow_x": null,
            "overflow_y": null,
            "padding": null,
            "right": null,
            "top": null,
            "visibility": null,
            "width": null
          }
        },
        "e41684ea0d6d4b599d4a10df1488442a": {
          "model_module": "@jupyter-widgets/base",
          "model_name": "LayoutModel",
          "state": {
            "_model_module": "@jupyter-widgets/base",
            "_model_module_version": "1.2.0",
            "_model_name": "LayoutModel",
            "_view_count": null,
            "_view_module": "@jupyter-widgets/base",
            "_view_module_version": "1.2.0",
            "_view_name": "LayoutView",
            "align_content": null,
            "align_items": null,
            "align_self": null,
            "border": null,
            "bottom": null,
            "display": null,
            "flex": null,
            "flex_flow": null,
            "grid_area": null,
            "grid_auto_columns": null,
            "grid_auto_flow": null,
            "grid_auto_rows": null,
            "grid_column": null,
            "grid_gap": null,
            "grid_row": null,
            "grid_template_areas": null,
            "grid_template_columns": null,
            "grid_template_rows": null,
            "height": null,
            "justify_content": null,
            "justify_items": null,
            "left": null,
            "margin": null,
            "max_height": null,
            "max_width": null,
            "min_height": null,
            "min_width": null,
            "object_fit": null,
            "object_position": null,
            "order": null,
            "overflow": null,
            "overflow_x": null,
            "overflow_y": null,
            "padding": null,
            "right": null,
            "top": null,
            "visibility": null,
            "width": null
          }
        },
        "e46cd0dfb6b04a2eb2521df4a5a52f8d": {
          "model_module": "@jupyter-widgets/controls",
          "model_name": "HTMLModel",
          "state": {
            "_dom_classes": [],
            "_model_module": "@jupyter-widgets/controls",
            "_model_module_version": "1.5.0",
            "_model_name": "HTMLModel",
            "_view_count": null,
            "_view_module": "@jupyter-widgets/controls",
            "_view_module_version": "1.5.0",
            "_view_name": "HTMLView",
            "description": "",
            "description_tooltip": null,
            "layout": "IPY_MODEL_e64311bc40254851a484bd3a36f1e0f8",
            "placeholder": "​",
            "style": "IPY_MODEL_aa5166fe3ecf4c1fb0d0828ef252d5b2",
            "value": " 337/337 [04:22&lt;00:00,  1.28it/s]"
          }
        },
        "e64311bc40254851a484bd3a36f1e0f8": {
          "model_module": "@jupyter-widgets/base",
          "model_name": "LayoutModel",
          "state": {
            "_model_module": "@jupyter-widgets/base",
            "_model_module_version": "1.2.0",
            "_model_name": "LayoutModel",
            "_view_count": null,
            "_view_module": "@jupyter-widgets/base",
            "_view_module_version": "1.2.0",
            "_view_name": "LayoutView",
            "align_content": null,
            "align_items": null,
            "align_self": null,
            "border": null,
            "bottom": null,
            "display": null,
            "flex": null,
            "flex_flow": null,
            "grid_area": null,
            "grid_auto_columns": null,
            "grid_auto_flow": null,
            "grid_auto_rows": null,
            "grid_column": null,
            "grid_gap": null,
            "grid_row": null,
            "grid_template_areas": null,
            "grid_template_columns": null,
            "grid_template_rows": null,
            "height": null,
            "justify_content": null,
            "justify_items": null,
            "left": null,
            "margin": null,
            "max_height": null,
            "max_width": null,
            "min_height": null,
            "min_width": null,
            "object_fit": null,
            "object_position": null,
            "order": null,
            "overflow": null,
            "overflow_x": null,
            "overflow_y": null,
            "padding": null,
            "right": null,
            "top": null,
            "visibility": null,
            "width": null
          }
        },
        "fca14396f3db4dc485da337b766657d0": {
          "model_module": "@jupyter-widgets/controls",
          "model_name": "HBoxModel",
          "state": {
            "_dom_classes": [],
            "_model_module": "@jupyter-widgets/controls",
            "_model_module_version": "1.5.0",
            "_model_name": "HBoxModel",
            "_view_count": null,
            "_view_module": "@jupyter-widgets/controls",
            "_view_module_version": "1.5.0",
            "_view_name": "HBoxView",
            "box_style": "",
            "children": [
              "IPY_MODEL_45eb9e37d87d4ee298b7004e7fb1bc8d",
              "IPY_MODEL_a4f5176776ff41bca86325c3bb2caba2"
            ],
            "layout": "IPY_MODEL_110cdc52618546f3a938bee08c430f7e"
          }
        }
      }
    }
  },
  "nbformat": 4,
  "nbformat_minor": 0
}
